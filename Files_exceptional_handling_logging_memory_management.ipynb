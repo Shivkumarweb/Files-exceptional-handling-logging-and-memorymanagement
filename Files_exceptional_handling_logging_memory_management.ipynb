{
  "nbformat": 4,
  "nbformat_minor": 0,
  "metadata": {
    "colab": {
      "provenance": []
    },
    "kernelspec": {
      "name": "python3",
      "display_name": "Python 3"
    },
    "language_info": {
      "name": "python"
    }
  },
  "cells": [
    {
      "cell_type": "markdown",
      "source": [
        "Q1. What is the difference between interpreted and compiled languages?\n",
        "   - Interpreted Languages: Execute code line by line using an interpreter (e.g., Python, JavaScript). Slower but easier to debug.\n",
        "\n",
        "   - Compiled Languages: Convert code into machine code before execution using a compiler (e.g., C, C++). Faster but harder to debug."
      ],
      "metadata": {
        "id": "B1A4knYkmh0u"
      }
    },
    {
      "cell_type": "markdown",
      "source": [
        "Q2. What is exception handling in Python?\n",
        " - Exception handling is a way to handle errors that occur during program execution, preventing crashes. Python uses try, except, finally, and else blocks for this."
      ],
      "metadata": {
        "id": "VlbHXCwwmhxV"
      }
    },
    {
      "cell_type": "markdown",
      "source": [
        "Q3.What is the purpose of the finally block in exception handling?\n",
        "  - The finally block in Python always executes whether an exception occurs or not. It is mainly used for cleanup actions like closing files or releasing resources."
      ],
      "metadata": {
        "id": "DCeL1v0gmhu6"
      }
    },
    {
      "cell_type": "markdown",
      "source": [
        "Q4.What is logging in Python?\n",
        " - Logging in Python is used to track events that happen while a program runs. It helps in debugging, monitoring, and error tracking."
      ],
      "metadata": {
        "id": "HbcAnr6Hmhsg"
      }
    },
    {
      "cell_type": "markdown",
      "source": [
        "Q5. What is the significance of the __del__ method in Python?\n",
        "  - The __del__ method is a destructor in Python. It is automatically called when an object is deleted or goes out of scope, helping in resource cleanup."
      ],
      "metadata": {
        "id": "XC79Y-iQmhp_"
      }
    },
    {
      "cell_type": "markdown",
      "source": [
        "Q6. What is the difference between import and from ... import in Python?\n",
        "- import module\n",
        "This imports the entire module.\n",
        "To use functions or variables, you must reference them with the module name.\n",
        "\n",
        "- from module import function\n",
        "This imports only specific functions or variables from the module.\n",
        "The imported function can be used directly without the module name.\n",
        "\n",
        "- from module import *\n",
        "This imports all functions and variables from the module.\n",
        "It can lead to name conflicts and is generally discouraged."
      ],
      "metadata": {
        "id": "5zS80ydqmhnW"
      }
    },
    {
      "cell_type": "markdown",
      "source": [
        "Q7.  How can you handle multiple exceptions in Python?\n",
        "  - Python allows handling multiple exceptions using multiple except blocks or a single except block with a tuple."
      ],
      "metadata": {
        "id": "ff6w94F6mhk7"
      }
    },
    {
      "cell_type": "code",
      "source": [
        "# Using Multiple except Blocks\n",
        "try:\n",
        "    x = int(\"abc\")\n",
        "    y = 10 / 0\n",
        "except ValueError:\n",
        "    print(\"Invalid conversion!\")\n",
        "except ZeroDivisionError:\n",
        "    print(\"Cannot divide by zero!\")"
      ],
      "metadata": {
        "id": "p4c0xHQCofBG",
        "colab": {
          "base_uri": "https://localhost:8080/"
        },
        "outputId": "8900781c-2968-44e2-c757-28d6ebc75e7c"
      },
      "execution_count": 49,
      "outputs": [
        {
          "output_type": "stream",
          "name": "stdout",
          "text": [
            "Invalid conversion!\n"
          ]
        }
      ]
    },
    {
      "cell_type": "code",
      "source": [
        "#2. Using a Single except with a Tuple\n",
        "try:\n",
        "    x = int(\"abc\")  # Raises ValueError\n",
        "except (ValueError, ZeroDivisionError) as e:\n",
        "    print(f\"Error occurred: {e}\")"
      ],
      "metadata": {
        "id": "ExD1nwCIoo3u",
        "colab": {
          "base_uri": "https://localhost:8080/"
        },
        "outputId": "9f5d38d9-7619-40a4-c0df-21d0c9e089eb"
      },
      "execution_count": 50,
      "outputs": [
        {
          "metadata": {
            "tags": null
          },
          "name": "stdout",
          "output_type": "stream",
          "text": [
            "Error occurred: invalid literal for int() with base 10: 'abc'\n"
          ]
        }
      ]
    },
    {
      "cell_type": "code",
      "source": [
        "#3. Using except Exception\n",
        "try:\n",
        "    x = 10 / 0\n",
        "except Exception as e:\n",
        "    print(f\"An error occurred: {e}\")"
      ],
      "metadata": {
        "id": "hlwFtLX4o3vJ",
        "colab": {
          "base_uri": "https://localhost:8080/"
        },
        "outputId": "9dc5ddf3-a1ce-4241-e7fe-1900785ab5e8"
      },
      "execution_count": 51,
      "outputs": [
        {
          "metadata": {
            "tags": null
          },
          "name": "stdout",
          "output_type": "stream",
          "text": [
            "An error occurred: division by zero\n"
          ]
        }
      ]
    },
    {
      "cell_type": "markdown",
      "source": [
        "Q8. What is the purpose of the with statement when handling files in Python?\n",
        " - The with statement in Python automatically handles file closing, preventing resource leaks and making code cleaner.\n"
      ],
      "metadata": {
        "id": "dnFctqd7mhig"
      }
    },
    {
      "cell_type": "markdown",
      "source": [
        "Q9. What is the difference between multithreading and multiprocessing?\n",
        "  - Multithreading\n",
        "Uses multiple threads within the same process.\n",
        "Threads share memory and resources.\n",
        "Due to Python’s Global Interpreter Lock (GIL), only one thread executes at a time.\n",
        "Best for I/O-bound tasks (e.g., file handling, web scraping, database queries).\n",
        "\n",
        "- Multiprocessing\n",
        "Uses multiple processes, each with its own memory space.\n",
        "Bypasses GIL, allowing true parallel execution on multiple CPU cores.\n",
        "Best for CPU-bound tasks (e.g., image processing, machine learning)."
      ],
      "metadata": {
        "id": "4F2pZPGdmhfy"
      }
    },
    {
      "cell_type": "markdown",
      "source": [
        "Q10. What are the advantages of using logging in a program?\n",
        " - Logging is an essential tool in programming that allows developers to track and monitor the execution of a program. Instead of using print() statements, logging provides a structured and efficient way to record events, errors, and system behaviors."
      ],
      "metadata": {
        "id": "YRZFYFq9mhdI"
      }
    },
    {
      "cell_type": "markdown",
      "source": [
        "Q11. What is memory management in Python?\n",
        "  - Memory management in Python refers to how the interpreter allocates, manages, and frees memory to optimize performance and prevent leaks. It is handled automatically using garbage collection and dynamic memory allocation."
      ],
      "metadata": {
        "id": "_EjIYixymhaY"
      }
    },
    {
      "cell_type": "markdown",
      "source": [
        "Q12. What are the basic steps involved in exception handling in Python?\n",
        "   - Exception handling in Python ensures that a program handles errors\n",
        "     gracefully without crashing.\n",
        "  - try Block - Contains code that may raise an exception.\n",
        "  - except Block - Catches and handles specific or general exceptions"
      ],
      "metadata": {
        "id": "xnmCELYamhX3"
      }
    },
    {
      "cell_type": "markdown",
      "source": [
        "Q13.  Why is memory management important in Python?\n",
        "  - Memory management in Python ensures efficient allocation, usage, and deallocation of memory, preventing issues like memory leaks and performance slowdowns."
      ],
      "metadata": {
        "id": "VJDBXonQmhVI"
      }
    },
    {
      "cell_type": "markdown",
      "source": [
        "Q14.What is the role of try and except in exception handling?\n",
        "  - In Python, try and except are used for exception handling, which helps prevent programs from crashing due to unexpected errors.\n",
        " - try block: Contains the code that may raise an exception.\n",
        " - except block: Handles the exception if it occurs, preventing the program from crashing."
      ],
      "metadata": {
        "id": "BrEnmFqXmhSf"
      }
    },
    {
      "cell_type": "markdown",
      "source": [
        "Q15. How does Python's garbage collection system work?\n",
        "  - Python's garbage collection (GC) manages memory automatically using:\n",
        "\n",
        "  - Reference Counting - Deletes objects when no references exist.\n",
        "  - Cyclic GC - Removes circular references.\n",
        "  - Generational GC - Optimizes performance by managing objects in three generations"
      ],
      "metadata": {
        "id": "WeRLKTLnmhP9"
      }
    },
    {
      "cell_type": "markdown",
      "source": [
        "Q16.What is the purpose of the else block in exception handling?\n",
        "  - The else block in Python's exception handling is used to specify code that should only run if no exception occurs in the try block.\n",
        "  - Keeps the try block focused only on code that might raise an exception."
      ],
      "metadata": {
        "id": "lZGt1T_1mhNc"
      }
    },
    {
      "cell_type": "markdown",
      "source": [
        "Q17. What are the common logging levels in Python?\n",
        "  - 1. DEBUG - Detailed diagnostic info.\n",
        "2. INFO - General execution info.\n",
        "3. WARNING - Indicates potential issues.\n",
        "4. ERROR - Serious issue, but program continues.\n",
        "5. CRITICAL - Severe error, may cause a crash."
      ],
      "metadata": {
        "id": "uOXtlVRzmhK7"
      }
    },
    {
      "cell_type": "markdown",
      "source": [
        "\n",
        "Q18. What is the difference between os.fork() and multiprocessing in Python?\n",
        "  - os.fork() - Creates a child process by duplicating the parent (Unix only).\n",
        "  - multiprocessing - Spawns independent processes with separate memory (Cross-platform).\n",
        "  - Use os.fork() for low-level control & multiprocessing for parallel execution!\n",
        "\n",
        "\n",
        "\n",
        "\n",
        "\n",
        "\n",
        "\n"
      ],
      "metadata": {
        "id": "kN9alfttmhIY"
      }
    },
    {
      "cell_type": "markdown",
      "source": [
        "Q19.  What is the importance of closing a file in Python?\n",
        "  - Closing a file using file.close() is important because:\n",
        "\n",
        "1. Frees System Resources – Releases memory and file handles.\n",
        "2. Ensures Data is Saved – Flushes any unsaved data to the file.\n",
        "3. Prevents Data Corruption – Avoids file corruption in case of unexpected termination.\n",
        "4. Allows Reopening – Ensures the file can be accessed later without issues."
      ],
      "metadata": {
        "id": "eyK8O5GzmhGF"
      }
    },
    {
      "cell_type": "markdown",
      "source": [
        "Q20. What is the difference between file.read() and file.readline() in Python?\n",
        "   - file.read(size) – Reads the entire file or a specified number of characters.\n",
        "   - file.readline() – Reads one line at a time from the file."
      ],
      "metadata": {
        "id": "OzQP9vfRmhD6"
      }
    },
    {
      "cell_type": "markdown",
      "source": [
        "Q21. What is the logging module in Python used for?\n",
        "   - The logging module is used for tracking events and debugging in Python applications.\n",
        "  1. Records messages at different levels (DEBUG, INFO, WARNING, ERROR, CRITICAL)\n",
        "  2. Saves logs to files or displays them on the console.\n",
        "  3. Helps debug and monitor program execution."
      ],
      "metadata": {
        "id": "fi-C7JmfnyXz"
      }
    },
    {
      "cell_type": "markdown",
      "source": [
        "Q22. What is the os module in Python used for in file handling?\n",
        "   - The os module provides functions to manage files and directories in Python.\n",
        "  1. Create, delete, and rename files (os.rename(), os.remove()).\n",
        "  2. Check file existence (os.path.exists()).\n",
        "  3. Manage directories (os.mkdir(), os.rmdir(), os.listdir()).\n",
        "  4. Get file properties (os.path.getsize())."
      ],
      "metadata": {
        "id": "eIaDlYlmnyUT"
      }
    },
    {
      "cell_type": "markdown",
      "source": [
        "Q23. What are the challenges associated with memory management in Python?\n",
        "   - 1. Garbage collection overhead slows performance.\n",
        "     2. Memory leaks due to unreleased references.\n",
        "     3. High memory usage from dynamic typing.\n",
        "     4. Fragmentation from frequent allocations.\n",
        "     5. Reference cycles delaying memory cleanup.\n"
      ],
      "metadata": {
        "id": "NhXMzA9RnyJB"
      }
    },
    {
      "cell_type": "markdown",
      "source": [
        "Q24. How do you raise an exception manually in Python?\n",
        "  - 1. Use raise to trigger an exception manually.\n",
        "    2. Syntax: raise ExceptionType(\"Error message\").\n",
        "    3. Helps in custom error handling and validation."
      ],
      "metadata": {
        "id": "6o8b69D-nx8J"
      }
    },
    {
      "cell_type": "markdown",
      "source": [
        "Q25.Why is it important to use multithreading in certain applications?\n",
        " - Multithreading improves efficiency by allowing multiple tasks to run concurrently. It enhances CPU utilization, speeds up I/O-bound operations, and keeps applications responsive. However, it's best suited for tasks like file handling and networking, rather than CPU-heavy computations."
      ],
      "metadata": {
        "id": "tGU7JpRenxg6"
      }
    },
    {
      "cell_type": "markdown",
      "source": [
        "***PRACTICAL QUESTION***"
      ],
      "metadata": {
        "id": "4cK2PuWBrdm0"
      }
    },
    {
      "cell_type": "markdown",
      "source": [
        "Q1. How can you open a file for writing in Python and write a string to it?"
      ],
      "metadata": {
        "id": "YvBmFqKKrr0g"
      }
    },
    {
      "cell_type": "code",
      "source": [
        "# How can you open a file for writing in Python and write a string to it?\n",
        "file = open(\"example.txt\", \"w\")\n",
        "file.write(\"Hello, Python!\")\n",
        "file.close()"
      ],
      "metadata": {
        "id": "Ol6XjMxMnxJz"
      },
      "execution_count": 52,
      "outputs": []
    },
    {
      "cell_type": "code",
      "source": [
        "with open(\"source.txt\", \"w\") as file:\n",
        "    file.write(\"Hello, Python!\")"
      ],
      "metadata": {
        "id": "Z9NyVoogr6IC"
      },
      "execution_count": 53,
      "outputs": []
    },
    {
      "cell_type": "markdown",
      "source": [
        "Q2. Write a Python program to read the contents of a file and print each line."
      ],
      "metadata": {
        "id": "thTeFs5Or_21"
      }
    },
    {
      "cell_type": "code",
      "source": [
        "#Write a Python program to read the contents of a file and print each line.\n",
        "with open(\"example.txt\", \"r\") as file:\n",
        "    for line in file:\n",
        "        print(line.strip())"
      ],
      "metadata": {
        "id": "KvoN4qefnxEu",
        "colab": {
          "base_uri": "https://localhost:8080/"
        },
        "outputId": "a94daed8-ac77-436e-c34c-7c4f4b2a7e33"
      },
      "execution_count": 54,
      "outputs": [
        {
          "output_type": "stream",
          "name": "stdout",
          "text": [
            "Hello, Python!\n"
          ]
        }
      ]
    },
    {
      "cell_type": "markdown",
      "source": [
        "Q3. How would you handle a case where the file doesn't exist while trying to open it for reading?"
      ],
      "metadata": {
        "id": "gLXqUimrsOVX"
      }
    },
    {
      "cell_type": "code",
      "source": [
        "#How would you handle a case where the file doesn't exist while trying to open it for reading?\n",
        "try:\n",
        "    with open(\"example.txt\", \"r\") as file:\n",
        "        for line in file:\n",
        "            print(line.strip())\n",
        "except FileNotFoundError:\n",
        "    print(\"Error: The file does not exist.\")"
      ],
      "metadata": {
        "id": "J6WVhxcmnxBL",
        "colab": {
          "base_uri": "https://localhost:8080/"
        },
        "outputId": "7cbeb706-1e20-4475-a4b5-58f9d2335426"
      },
      "execution_count": 55,
      "outputs": [
        {
          "metadata": {
            "tags": null
          },
          "name": "stdout",
          "output_type": "stream",
          "text": [
            "Hello, Python!\n"
          ]
        }
      ]
    },
    {
      "cell_type": "markdown",
      "source": [
        "Q4. Write a Python script that reads from one file and writes its content to another file?\n",
        "   "
      ],
      "metadata": {
        "id": "HTNJuRJ3sbNK"
      }
    },
    {
      "cell_type": "code",
      "source": [
        "#Write a Python script that reads from one file and writes its content to another file?\n",
        "with open(\"source.txt\", \"r\") as source, open(\"destination.txt\", \"w\") as destination:\n",
        "    for line in source:\n",
        "        destination.write(line)\n",
        "\n",
        "print(\"File copied successfully!\")"
      ],
      "metadata": {
        "id": "G9fse3qTnw7p",
        "colab": {
          "base_uri": "https://localhost:8080/"
        },
        "outputId": "c845b519-99d1-4e14-984e-b9c205c851c9"
      },
      "execution_count": 56,
      "outputs": [
        {
          "metadata": {
            "tags": null
          },
          "name": "stdout",
          "output_type": "stream",
          "text": [
            "File copied successfully!\n"
          ]
        }
      ]
    },
    {
      "cell_type": "markdown",
      "source": [
        "Q5. How would you catch and handle division by zero error in Python?\n"
      ],
      "metadata": {
        "id": "7OQ7AeYHs4Ap"
      }
    },
    {
      "cell_type": "code",
      "source": [
        "#How would you catch and handle division by zero error in Python?\n",
        "try:\n",
        "    result = 10 / 0\n",
        "except ZeroDivisionError:\n",
        "    print(\"Error: Division by zero is not allowed.\")"
      ],
      "metadata": {
        "id": "yIrHCaz6nw4M",
        "colab": {
          "base_uri": "https://localhost:8080/"
        },
        "outputId": "63c8ab6a-2551-4a12-b737-c15ca6d0799d"
      },
      "execution_count": 57,
      "outputs": [
        {
          "output_type": "stream",
          "name": "stdout",
          "text": [
            "Error: Division by zero is not allowed.\n"
          ]
        }
      ]
    },
    {
      "cell_type": "markdown",
      "source": [
        "Q6. Write a Python program that logs an error message to a log file when a division by zero exception occurs?"
      ],
      "metadata": {
        "id": "-u_FEYC1tMqo"
      }
    },
    {
      "cell_type": "code",
      "execution_count": 58,
      "metadata": {
        "id": "DcEhUV6nj7iF",
        "colab": {
          "base_uri": "https://localhost:8080/"
        },
        "outputId": "fcaa92db-fc09-4be2-9301-4efcd39bfc37"
      },
      "outputs": [
        {
          "metadata": {
            "tags": null
          },
          "name": "stderr",
          "output_type": "stream",
          "text": [
            "ERROR:root:Division by zero error occurred!\n"
          ]
        },
        {
          "output_type": "stream",
          "name": "stdout",
          "text": [
            "Error logged to error.log\n"
          ]
        }
      ],
      "source": [
        "#Write a Python program that logs an error message to a log file when a division by zero exception occurs?\n",
        "import logging\n",
        "\n",
        "logging.basicConfig(filename=\"error.log\", level=logging.ERROR, format=\"%(asctime)s - %(levelname)s - %(message)s\")\n",
        "\n",
        "try:\n",
        "    result = 10 / 0\n",
        "except ZeroDivisionError:\n",
        "    logging.error(\"Division by zero error occurred!\")\n",
        "    print(\"Error logged to error.log\")"
      ]
    },
    {
      "cell_type": "markdown",
      "source": [
        "Q7. How do you log information at different levels (INFO, ERROR, WARNING) in Python using the logging module?"
      ],
      "metadata": {
        "id": "0wH4aTJNta52"
      }
    },
    {
      "cell_type": "code",
      "source": [
        "#How do you log information at different levels (INFO, ERROR, WARNING) in Python using the logging module?\n",
        "import logging\n",
        "logging.basicConfig(filename=\"app.log\", level=logging.DEBUG, format=\"%(asctime)s - %(levelname)s - %(message)s\")\n",
        "\n",
        "logging.debug(\"This is a DEBUG message\")\n",
        "logging.info(\"This is an INFO message\")\n",
        "logging.warning(\"This is a WARNING message\")\n",
        "logging.error(\"This is an ERROR message\")\n",
        "logging.critical(\"This is a CRITICAL message\")\n",
        "\n",
        "print(\"Logs saved to app.log\")"
      ],
      "metadata": {
        "id": "fPfSaVA2lOo0",
        "colab": {
          "base_uri": "https://localhost:8080/"
        },
        "outputId": "435efee2-d13b-491d-a112-b4a5c3cd89a3"
      },
      "execution_count": 59,
      "outputs": [
        {
          "output_type": "stream",
          "name": "stderr",
          "text": [
            "WARNING:root:This is a WARNING message\n",
            "ERROR:root:This is an ERROR message\n",
            "CRITICAL:root:This is a CRITICAL message\n"
          ]
        },
        {
          "output_type": "stream",
          "name": "stdout",
          "text": [
            "Logs saved to app.log\n"
          ]
        }
      ]
    },
    {
      "cell_type": "markdown",
      "source": [
        "Q8. Write a program to handle a file opening error using exception handling?\n"
      ],
      "metadata": {
        "id": "fRdplHKjtwMQ"
      }
    },
    {
      "cell_type": "code",
      "source": [
        "#Write a program to handle a file opening error using exception handling?\n",
        "try:\n",
        "    with open(\"nonexistent_file.txt\", \"r\") as file:\n",
        "        content = file.read()\n",
        "        print(content)\n",
        "except FileNotFoundError:\n",
        "    print(\"Error: The file does not exist. Please check the filename.\")"
      ],
      "metadata": {
        "id": "Vo3ymiYiluIo",
        "colab": {
          "base_uri": "https://localhost:8080/"
        },
        "outputId": "a294066a-d778-4f85-88a6-7785c8c169de"
      },
      "execution_count": 60,
      "outputs": [
        {
          "metadata": {
            "tags": null
          },
          "name": "stdout",
          "output_type": "stream",
          "text": [
            "Error: The file does not exist. Please check the filename.\n"
          ]
        }
      ]
    },
    {
      "cell_type": "markdown",
      "source": [
        "Q9. How can you read a file line by line and store its content in a list in Python?"
      ],
      "metadata": {
        "id": "7Aw7spXPt6kN"
      }
    },
    {
      "cell_type": "code",
      "source": [
        "#How can you read a file line by line and store its content in a list in Python?\n",
        "with open(\"example.txt\", \"r\") as file:\n",
        "    lines = file.readlines()\n",
        "    for line in lines:\n",
        "        print(line.strip())"
      ],
      "metadata": {
        "id": "mgpfPyiXt5wR",
        "colab": {
          "base_uri": "https://localhost:8080/"
        },
        "outputId": "c160839a-4422-4a4c-bf83-fe040737323e"
      },
      "execution_count": 61,
      "outputs": [
        {
          "metadata": {
            "tags": null
          },
          "name": "stdout",
          "output_type": "stream",
          "text": [
            "Hello, Python!\n"
          ]
        }
      ]
    },
    {
      "cell_type": "markdown",
      "source": [
        "Q10. How can you append data to an existing file in Python?"
      ],
      "metadata": {
        "id": "dZbep4JhuODb"
      }
    },
    {
      "cell_type": "code",
      "source": [
        "#How can you append data to an existing file in Python?\n",
        "with open(\"example.txt\", \"a\") as file:\n",
        "    file.write(\"\\nNew line added!\")\n",
        "\n",
        "print(\"Data appended successfully!\")"
      ],
      "metadata": {
        "id": "ucpnYF72uFXU",
        "colab": {
          "base_uri": "https://localhost:8080/"
        },
        "outputId": "f5f19e3b-b749-44cd-ac61-2cdded5fd64e"
      },
      "execution_count": 62,
      "outputs": [
        {
          "output_type": "stream",
          "name": "stdout",
          "text": [
            "Data appended successfully!\n"
          ]
        }
      ]
    },
    {
      "cell_type": "markdown",
      "source": [
        "Q11. Write a Python program that uses a try-except block to handle an error when attempting to access a\n",
        "dictionary key that doesn't exist?"
      ],
      "metadata": {
        "id": "VOQgvR3CuZV_"
      }
    },
    {
      "cell_type": "code",
      "source": [
        "#Write a Python program that uses a try-except block to handle an error when attempting to access a dictionary key that doesn't exist?\n",
        "try:\n",
        "    my_dict = {\"name\": \"Alice\", \"age\": 25}\n",
        "    print(my_dict[\"city\"])  # Trying to access a non-existent key\n",
        "except KeyError:\n",
        "    print(\"Error: Key not found in dictionary.\")"
      ],
      "metadata": {
        "id": "vbPwG4GguXnk",
        "colab": {
          "base_uri": "https://localhost:8080/"
        },
        "outputId": "0668577e-bdff-42bf-f705-8c5fbdc565b1"
      },
      "execution_count": 63,
      "outputs": [
        {
          "output_type": "stream",
          "name": "stdout",
          "text": [
            "Error: Key not found in dictionary.\n"
          ]
        }
      ]
    },
    {
      "cell_type": "markdown",
      "source": [
        "Q12. Write a program that demonstrates using multiple except blocks to handle different types of exceptions.\n"
      ],
      "metadata": {
        "id": "uEXWsvktumbl"
      }
    },
    {
      "cell_type": "code",
      "source": [
        "#Write a program that demonstrates using multiple except blocks to handle different types of exceptions.\n",
        "try:\n",
        "    num1 = int(input(\"Enter a number: \"))\n",
        "    num2 = int(input(\"Enter another number: \"))\n",
        "    result = num1 / num2\n",
        "    print(\"Result:\", result)\n",
        "\n",
        "except ValueError:\n",
        "    print(\"Error: Invalid input! Please enter a valid number.\")\n",
        "\n",
        "except ZeroDivisionError:\n",
        "    print(\"Error: Division by zero is not allowed.\")\n",
        "\n",
        "except Exception as e:\n",
        "    print(f\"An unexpected error occurred: {e}\")"
      ],
      "metadata": {
        "id": "h3LIFGbqulRc",
        "colab": {
          "base_uri": "https://localhost:8080/"
        },
        "outputId": "bbdf0b11-ba19-4df1-c34c-62b30f270f12"
      },
      "execution_count": 39,
      "outputs": [
        {
          "output_type": "stream",
          "name": "stdout",
          "text": [
            "Enter a number: \n",
            "Error: Invalid input! Please enter a valid number.\n"
          ]
        }
      ]
    },
    {
      "cell_type": "markdown",
      "source": [
        "Q13. How would you check if a file exists before attempting to read it in Python?"
      ],
      "metadata": {
        "id": "uvSI1Qduu4Kv"
      }
    },
    {
      "cell_type": "code",
      "source": [
        "#How would you check if a file exists before attempting to read it in Python?\n",
        "import os\n",
        "\n",
        "filename = \"example.txt\"\n",
        "\n",
        "if os.path.exists(filename):\n",
        "    with open(filename, \"r\") as file:\n",
        "        content = file.read()\n",
        "        print(content)\n",
        "else:\n",
        "    print(\"Error: File does not exist.\")\n"
      ],
      "metadata": {
        "id": "ga4aQwzjuxUd",
        "colab": {
          "base_uri": "https://localhost:8080/"
        },
        "outputId": "9b09dda3-40d2-4d3d-e147-a6954b4c31c8"
      },
      "execution_count": 40,
      "outputs": [
        {
          "metadata": {
            "tags": null
          },
          "name": "stdout",
          "output_type": "stream",
          "text": [
            "Hello, Python!\n",
            "New line added!\n"
          ]
        }
      ]
    },
    {
      "cell_type": "markdown",
      "source": [
        "Q14. Write a program that uses the logging module to log both informational and error messages?\n"
      ],
      "metadata": {
        "id": "mvAwMwa7u_pE"
      }
    },
    {
      "cell_type": "code",
      "source": [
        "#Write a program that uses the logging module to log both informational and error messages?\n",
        "import logging\n",
        "\n",
        "# Configure logging\n",
        "logging.basicConfig(filename=\"app.log\", level=logging.DEBUG, format=\"%(asctime)s - %(levelname)s - %(message)s\")\n",
        "\n",
        "# Logging messages\n",
        "logging.info(\"Program started successfully.\")\n",
        "try:\n",
        "    num1 = int(input(\"Enter a number: \"))\n",
        "    num2 = int(input(\"Enter another number: \"))\n",
        "    result = num1 / num2\n",
        "    logging.info(f\"Division successful: {num1} / {num2} = {result}\")\n",
        "    print(\"Result:\", result)\n",
        "except ZeroDivisionError:\n",
        "    logging.error(\"Error: Division by zero attempted!\")\n",
        "    print(\"Error: Cannot divide by zero.\")\n",
        "except ValueError:\n",
        "    logging.error(\"Error: Invalid input entered!\")\n",
        "    print(\"Error: Please enter valid numbers.\")\n",
        "except Exception as e:\n",
        "    logging.error(f\"Unexpected error: {e}\")\n",
        "    print(\"An unexpected error occurred.\")\n",
        "\n",
        "print(\"Logs saved to app.log\")\n"
      ],
      "metadata": {
        "id": "Qu1RBdlfu-ou",
        "colab": {
          "base_uri": "https://localhost:8080/"
        },
        "outputId": "1745a76e-0522-4601-8265-f95ea8136544"
      },
      "execution_count": 41,
      "outputs": [
        {
          "name": "stdout",
          "output_type": "stream",
          "text": [
            "Enter a number: \n"
          ]
        },
        {
          "output_type": "stream",
          "name": "stderr",
          "text": [
            "ERROR:root:Error: Invalid input entered!\n"
          ]
        },
        {
          "output_type": "stream",
          "name": "stdout",
          "text": [
            "Error: Please enter valid numbers.\n",
            "Logs saved to app.log\n"
          ]
        }
      ]
    },
    {
      "cell_type": "markdown",
      "source": [
        "Q15. Write a Python program that prints the content of a file and handles the case when the file is empty?\n"
      ],
      "metadata": {
        "id": "3fvCPDOXvMBj"
      }
    },
    {
      "cell_type": "code",
      "source": [
        "#Write a Python program that prints the content of a file and handles the case when the file is empty?\n",
        "import os\n",
        "\n",
        "filename = \"example.txt\"\n",
        "\n",
        "try:\n",
        "    if os.path.exists(filename):  # Check if file exists\n",
        "        with open(filename, \"r\") as file:\n",
        "            content = file.read().strip()  # Read and remove extra spaces/newlines\n",
        "\n",
        "            if content:  # Check if file is not empty\n",
        "                print(\"File Content:\\n\", content)\n",
        "            else:\n",
        "                print(\"Error: The file is empty.\")\n",
        "    else:\n",
        "        print(\"Error: The file does not exist.\")\n",
        "except Exception as e:\n",
        "    print(f\"An error occurred: {e}\")\n"
      ],
      "metadata": {
        "id": "aOn4LMNdvJoM",
        "colab": {
          "base_uri": "https://localhost:8080/"
        },
        "outputId": "448e1f45-5361-487b-a69c-4002a728f149"
      },
      "execution_count": 42,
      "outputs": [
        {
          "output_type": "stream",
          "name": "stdout",
          "text": [
            "File Content:\n",
            " Hello, Python!\n",
            "New line added!\n"
          ]
        }
      ]
    },
    {
      "cell_type": "markdown",
      "source": [
        "Q16. Demonstrate how to use memory profiling to check the memory usage of a small program."
      ],
      "metadata": {
        "id": "0cHZw8WwQi-6"
      }
    },
    {
      "cell_type": "code",
      "source": [
        "#Demonstrate how to use memory profiling to check the memory usage of a small program.\n",
        "%%writefile memory_test.py\n",
        "from memory_profiler import profile\n",
        "\n",
        "@profile\n",
        "def test_function():\n",
        "    nums = [i for i in range(100000)]  # Create a large list\n",
        "    del nums  # Delete the list to free memory\n",
        "\n",
        "if __name__ == \"__main__\":\n",
        "    test_function()\n",
        "\n",
        "\n"
      ],
      "metadata": {
        "id": "EP_Vm1rpvU65",
        "colab": {
          "base_uri": "https://localhost:8080/"
        },
        "outputId": "b1162224-5d3d-4618-c665-a6e698ee8d8e"
      },
      "execution_count": 43,
      "outputs": [
        {
          "output_type": "stream",
          "name": "stdout",
          "text": [
            "Overwriting memory_test.py\n"
          ]
        }
      ]
    },
    {
      "cell_type": "code",
      "source": [
        "!python3 memory_test.py\n"
      ],
      "metadata": {
        "id": "kqxUN1OtQwUd",
        "colab": {
          "base_uri": "https://localhost:8080/"
        },
        "outputId": "72d94233-0f86-4c63-e23a-52a79b833d47"
      },
      "execution_count": 44,
      "outputs": [
        {
          "output_type": "stream",
          "name": "stdout",
          "text": [
            "Filename: /content/memory_test.py\n",
            "\n",
            "Line #    Mem usage    Increment  Occurrences   Line Contents\n",
            "=============================================================\n",
            "     3     41.3 MiB     41.3 MiB           1   @profile\n",
            "     4                                         def test_function():\n",
            "     5     45.7 MiB      4.4 MiB      100003       nums = [i for i in range(100000)]  # Create a large list\n",
            "     6     43.2 MiB     -2.6 MiB           1       del nums  # Delete the list to free memory\n",
            "\n",
            "\n"
          ]
        }
      ]
    },
    {
      "cell_type": "markdown",
      "source": [
        "Q17.Write a Python program to create and write a list of numbers to a file, one number per line."
      ],
      "metadata": {
        "id": "2ksVB6MCSJSG"
      }
    },
    {
      "cell_type": "code",
      "source": [
        "# Write a Python program to create and write a list of numbers to a file, one number per line.\n",
        "# Define the list of numbers\n",
        "numbers = [1, 2, 3, 4, 5, 10, 20, 30, 40, 50]\n",
        "\n",
        "# Open a file in write mode\n",
        "with open(\"numbers.txt\", \"w\") as file:\n",
        "    # Write each number to a new line\n",
        "    for num in numbers:\n",
        "        file.write(f\"{num}\\n\")\n",
        "\n",
        "print(\"Numbers written to numbers.txt successfully!\")\n",
        "\n"
      ],
      "metadata": {
        "id": "3kRe1_cFRs9C",
        "colab": {
          "base_uri": "https://localhost:8080/"
        },
        "outputId": "c2b95d02-8a7c-46bc-852b-cd5f39825d16"
      },
      "execution_count": 45,
      "outputs": [
        {
          "output_type": "stream",
          "name": "stdout",
          "text": [
            "Numbers written to numbers.txt successfully!\n"
          ]
        }
      ]
    },
    {
      "cell_type": "markdown",
      "source": [
        "Q18. How would you implement a basic logging setup that logs to a file with rotation after 1MB?"
      ],
      "metadata": {
        "id": "MIw8LszhSVg1"
      }
    },
    {
      "cell_type": "code",
      "source": [
        "#How would you implement a basic logging setup that logs to a file with rotation after 1MB?\n",
        "import logging\n",
        "from logging.handlers import RotatingFileHandler\n",
        "\n",
        "# Define log file name\n",
        "log_file = \"app.log\"\n",
        "\n",
        "# Set up the logger\n",
        "logger = logging.getLogger(\"MyLogger\")\n",
        "logger.setLevel(logging.DEBUG)  # Log level (DEBUG, INFO, WARNING, ERROR, CRITICAL)\n",
        "\n",
        "# Create a rotating file handler (max size: 1MB, keep 3 backup files)\n",
        "handler = RotatingFileHandler(log_file, maxBytes=1*1024*1024, backupCount=3)\n",
        "\n",
        "# Set log message format\n",
        "formatter = logging.Formatter('%(asctime)s - %(levelname)s - %(message)s')\n",
        "handler.setFormatter(formatter)\n",
        "\n",
        "# Add handler to the logger\n",
        "logger.addHandler(handler)\n",
        "\n",
        "# Generate limited log messages\n",
        "for i in range(100):  # Logs only 100 messages\n",
        "    logger.info(f\"Log message {i}\")\n",
        "\n",
        "print(\"Logging complete! Check the app.log file.\")\n"
      ],
      "metadata": {
        "id": "S0UJIKGTSTxh",
        "colab": {
          "base_uri": "https://localhost:8080/"
        },
        "outputId": "2eabb08f-5f88-40cf-dbf8-b35380c8693a"
      },
      "execution_count": 46,
      "outputs": [
        {
          "output_type": "stream",
          "name": "stderr",
          "text": [
            "INFO:MyLogger:Log message 0\n",
            "INFO:MyLogger:Log message 1\n",
            "INFO:MyLogger:Log message 2\n",
            "INFO:MyLogger:Log message 3\n",
            "INFO:MyLogger:Log message 4\n",
            "INFO:MyLogger:Log message 5\n",
            "INFO:MyLogger:Log message 6\n",
            "INFO:MyLogger:Log message 7\n",
            "INFO:MyLogger:Log message 8\n",
            "INFO:MyLogger:Log message 9\n",
            "INFO:MyLogger:Log message 10\n",
            "INFO:MyLogger:Log message 11\n",
            "INFO:MyLogger:Log message 12\n",
            "INFO:MyLogger:Log message 13\n",
            "INFO:MyLogger:Log message 14\n",
            "INFO:MyLogger:Log message 15\n",
            "INFO:MyLogger:Log message 16\n",
            "INFO:MyLogger:Log message 17\n",
            "INFO:MyLogger:Log message 18\n",
            "INFO:MyLogger:Log message 19\n",
            "INFO:MyLogger:Log message 20\n",
            "INFO:MyLogger:Log message 21\n",
            "INFO:MyLogger:Log message 22\n",
            "INFO:MyLogger:Log message 23\n",
            "INFO:MyLogger:Log message 24\n",
            "INFO:MyLogger:Log message 25\n",
            "INFO:MyLogger:Log message 26\n",
            "INFO:MyLogger:Log message 27\n",
            "INFO:MyLogger:Log message 28\n",
            "INFO:MyLogger:Log message 29\n",
            "INFO:MyLogger:Log message 30\n",
            "INFO:MyLogger:Log message 31\n",
            "INFO:MyLogger:Log message 32\n",
            "INFO:MyLogger:Log message 33\n",
            "INFO:MyLogger:Log message 34\n",
            "INFO:MyLogger:Log message 35\n",
            "INFO:MyLogger:Log message 36\n",
            "INFO:MyLogger:Log message 37\n",
            "INFO:MyLogger:Log message 38\n",
            "INFO:MyLogger:Log message 39\n",
            "INFO:MyLogger:Log message 40\n",
            "INFO:MyLogger:Log message 41\n",
            "INFO:MyLogger:Log message 42\n",
            "INFO:MyLogger:Log message 43\n",
            "INFO:MyLogger:Log message 44\n",
            "INFO:MyLogger:Log message 45\n",
            "INFO:MyLogger:Log message 46\n",
            "INFO:MyLogger:Log message 47\n",
            "INFO:MyLogger:Log message 48\n",
            "INFO:MyLogger:Log message 49\n",
            "INFO:MyLogger:Log message 50\n",
            "INFO:MyLogger:Log message 51\n",
            "INFO:MyLogger:Log message 52\n",
            "INFO:MyLogger:Log message 53\n",
            "INFO:MyLogger:Log message 54\n",
            "INFO:MyLogger:Log message 55\n",
            "INFO:MyLogger:Log message 56\n",
            "INFO:MyLogger:Log message 57\n",
            "INFO:MyLogger:Log message 58\n",
            "INFO:MyLogger:Log message 59\n",
            "INFO:MyLogger:Log message 60\n",
            "INFO:MyLogger:Log message 61\n",
            "INFO:MyLogger:Log message 62\n",
            "INFO:MyLogger:Log message 63\n",
            "INFO:MyLogger:Log message 64\n",
            "INFO:MyLogger:Log message 65\n",
            "INFO:MyLogger:Log message 66\n",
            "INFO:MyLogger:Log message 67\n",
            "INFO:MyLogger:Log message 68\n",
            "INFO:MyLogger:Log message 69\n",
            "INFO:MyLogger:Log message 70\n",
            "INFO:MyLogger:Log message 71\n",
            "INFO:MyLogger:Log message 72\n",
            "INFO:MyLogger:Log message 73\n",
            "INFO:MyLogger:Log message 74\n",
            "INFO:MyLogger:Log message 75\n",
            "INFO:MyLogger:Log message 76\n",
            "INFO:MyLogger:Log message 77\n",
            "INFO:MyLogger:Log message 78\n",
            "INFO:MyLogger:Log message 79\n",
            "INFO:MyLogger:Log message 80\n",
            "INFO:MyLogger:Log message 81\n",
            "INFO:MyLogger:Log message 82\n",
            "INFO:MyLogger:Log message 83\n",
            "INFO:MyLogger:Log message 84\n",
            "INFO:MyLogger:Log message 85\n",
            "INFO:MyLogger:Log message 86\n",
            "INFO:MyLogger:Log message 87\n",
            "INFO:MyLogger:Log message 88\n",
            "INFO:MyLogger:Log message 89\n",
            "INFO:MyLogger:Log message 90\n",
            "INFO:MyLogger:Log message 91\n",
            "INFO:MyLogger:Log message 92\n",
            "INFO:MyLogger:Log message 93\n",
            "INFO:MyLogger:Log message 94\n",
            "INFO:MyLogger:Log message 95\n",
            "INFO:MyLogger:Log message 96\n",
            "INFO:MyLogger:Log message 97\n",
            "INFO:MyLogger:Log message 98\n",
            "INFO:MyLogger:Log message 99\n"
          ]
        },
        {
          "output_type": "stream",
          "name": "stdout",
          "text": [
            "Logging complete! Check the app.log file.\n"
          ]
        }
      ]
    },
    {
      "cell_type": "markdown",
      "source": [
        "Q19. Write a program that handles both IndexError and KeyError using a try-except block."
      ],
      "metadata": {
        "id": "1mZNT_69S0-N"
      }
    },
    {
      "cell_type": "code",
      "source": [
        "#Write a program that handles both IndexError and KeyError using a try-except block.\n",
        "def handle_errors():\n",
        "    my_list = [1, 2, 3]\n",
        "    my_dict = {\"name\": \"Shiv\", \"age\": 25}\n",
        "\n",
        "    try:\n",
        "        # Attempt to access an out-of-range index\n",
        "        print(my_list[5])  # IndexError\n",
        "\n",
        "        # Attempt to access a missing dictionary key\n",
        "        print(my_dict[\"city\"])  # KeyError\n",
        "\n",
        "    except IndexError:\n",
        "        print(\"Error: List index out of range!\")\n",
        "\n",
        "    except KeyError:\n",
        "        print(\"Error: Key not found in dictionary!\")\n",
        "\n",
        "# Call the function\n",
        "handle_errors()\n"
      ],
      "metadata": {
        "id": "eRdb7Vo2SSHm",
        "colab": {
          "base_uri": "https://localhost:8080/"
        },
        "outputId": "3fae5826-1814-4563-cb5d-7c57b9f25b5f"
      },
      "execution_count": 47,
      "outputs": [
        {
          "metadata": {
            "tags": null
          },
          "name": "stdout",
          "output_type": "stream",
          "text": [
            "Error: List index out of range!\n"
          ]
        }
      ]
    },
    {
      "cell_type": "markdown",
      "source": [
        "Q20. How would you open a file and read its contents using a context manager in Python?"
      ],
      "metadata": {
        "id": "UglznQDBTALQ"
      }
    },
    {
      "cell_type": "code",
      "source": [
        "#How would you open a file and read its contents using a context manager in Python?\n",
        "with open(\"example.txt\", \"r\") as file:\n",
        "    for line in file:\n",
        "        print(line.strip())  # Read and print each line (removing extra spaces)\n"
      ],
      "metadata": {
        "id": "TSvEueGpS-vU",
        "colab": {
          "base_uri": "https://localhost:8080/"
        },
        "outputId": "7f78ecf4-4ea8-456b-870f-5798e4f5fd20"
      },
      "execution_count": 48,
      "outputs": [
        {
          "metadata": {
            "tags": null
          },
          "name": "stdout",
          "output_type": "stream",
          "text": [
            "Hello, Python!\n",
            "New line added!\n"
          ]
        }
      ]
    },
    {
      "cell_type": "markdown",
      "source": [
        "Q21. Write a Python program that reads a file and prints the number of occurrences of a specific word?"
      ],
      "metadata": {
        "id": "vbI8p2fsTg0q"
      }
    },
    {
      "cell_type": "code",
      "source": [
        "#Write a Python program that reads a file and prints the number of occurrences of a specific wordF\n",
        "def count_word_occurrences(filename, word):\n",
        "    try:\n",
        "        with open(filename, \"r\") as file:\n",
        "            content = file.read().lower()\n",
        "            words = content.split()\n",
        "            count = words.count(word.lower())\n",
        "            print(f\"The word '{word}' appears {count} times in '{filename}'.\")\n",
        "    except FileNotFoundError:\n",
        "        print(f\"Error: The file '{filename}' was not found.\")\n",
        "\n",
        "# Example usage\n",
        "filename = \"example.txt\"\n",
        "word = \"Python\"\n",
        "count_word_occurrences(filename, word)\n"
      ],
      "metadata": {
        "id": "dBeUx_U4TIho",
        "colab": {
          "base_uri": "https://localhost:8080/"
        },
        "outputId": "a08340cd-643b-4b83-df19-fd2a9bf42d1e"
      },
      "execution_count": 65,
      "outputs": [
        {
          "output_type": "stream",
          "name": "stdout",
          "text": [
            "The word 'Python' appears 0 times in 'example.txt'.\n"
          ]
        }
      ]
    },
    {
      "cell_type": "markdown",
      "source": [
        "Q22.How can you check if a file is empty before attempting to read its contents?\n"
      ],
      "metadata": {
        "id": "ExCOQ6KiUQKa"
      }
    },
    {
      "cell_type": "code",
      "source": [
        "#How can you check if a file is empty before attempting to read its contents?\n",
        "import os\n",
        "\n",
        "filename = \"example.txt\"\n",
        "\n",
        "if os.path.exists(filename) and os.path.getsize(filename) == 0:\n",
        "    print(f\"The file '{filename}' is empty.\")\n",
        "else:\n",
        "    with open(filename, \"r\") as file:\n",
        "        content = file.read()\n",
        "        print(content)\n"
      ],
      "metadata": {
        "id": "4O2NfpF8T8Be"
      },
      "execution_count": 63,
      "outputs": []
    },
    {
      "cell_type": "markdown",
      "source": [
        "Q23. Write a Python program that writes to a log file when an error occurs during file handling."
      ],
      "metadata": {
        "id": "VBY06t7CUbJT"
      }
    },
    {
      "cell_type": "code",
      "source": [
        "#Write a Python program that writes to a log file when an error occurs during file handling.\n",
        "import logging\n",
        "\n",
        "# Configure logging to write errors to a log file\n",
        "logging.basicConfig(filename=\"file_errors.log\", level=logging.ERROR,\n",
        "                    format=\"%(asctime)s - %(levelname)s - %(message)s\")\n",
        "\n",
        "def process_file(filename):\n",
        "    try:\n",
        "        with open(filename, \"r\") as file:\n",
        "            content = file.read()\n",
        "            print(\"File content:\\n\", content)\n",
        "    except FileNotFoundError:\n",
        "        logging.error(f\"File '{filename}' not found.\")\n",
        "        print(f\"Error: The file '{filename}' was not found.\")\n",
        "    except PermissionError:\n",
        "        logging.error(f\"Permission denied for file '{filename}'.\")\n",
        "        print(f\"Error: Permission denied for file '{filename}'.\")\n",
        "    except Exception as e:\n",
        "        logging.error(f\"An unexpected error occurred: {e}\")\n",
        "        print(f\"Error: An unexpected error occurred: {e}\")\n",
        "\n",
        "# Example usage\n",
        "filename = \"example.txt\"  # Change to an existing or non-existing file to test\n",
        "process_file(filename)\n"
      ],
      "metadata": {
        "id": "tl77R7WoUa0e",
        "colab": {
          "base_uri": "https://localhost:8080/"
        },
        "outputId": "192b9f04-d641-44f3-9d31-04ea6575226d"
      },
      "execution_count": 66,
      "outputs": [
        {
          "output_type": "stream",
          "name": "stdout",
          "text": [
            "File content:\n",
            " Hello, Python!\n",
            "New line added!\n"
          ]
        }
      ]
    },
    {
      "cell_type": "code",
      "source": [],
      "metadata": {
        "id": "z916kEFjUaKV"
      },
      "execution_count": null,
      "outputs": []
    }
  ]
}